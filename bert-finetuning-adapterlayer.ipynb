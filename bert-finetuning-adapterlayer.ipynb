{
  "nbformat": 4,
  "nbformat_minor": 0,
  "metadata": {
    "colab": {
      "provenance": [],
      "gpuType": "T4"
    },
    "kernelspec": {
      "name": "python3",
      "display_name": "Python 3"
    },
    "language_info": {
      "name": "python"
    },
    "accelerator": "GPU"
  },
  "cells": [
    {
      "cell_type": "code",
      "source": [
        "pip install opendatasets --upgrade -q"
      ],
      "metadata": {
        "id": "Br2W9fvxjuaY"
      },
      "execution_count": null,
      "outputs": []
    },
    {
      "cell_type": "code",
      "source": [
        "import opendatasets as od\n",
        "od.download(\"https://www.kaggle.com/datasets/rmisra/news-headlines-dataset-for-sarcasm-detection\")"
      ],
      "metadata": {
        "colab": {
          "base_uri": "https://localhost:8080/"
        },
        "id": "e8HfHg6Yjwy4",
        "outputId": "c88c7d5a-2f51-455a-81da-0323801d638b"
      },
      "execution_count": null,
      "outputs": [
        {
          "output_type": "stream",
          "name": "stdout",
          "text": [
            "Skipping, found downloaded files in \"./news-headlines-dataset-for-sarcasm-detection\" (use force=True to force download)\n"
          ]
        }
      ]
    },
    {
      "cell_type": "code",
      "execution_count": null,
      "metadata": {
        "colab": {
          "base_uri": "https://localhost:8080/"
        },
        "id": "gXoA926-jree",
        "outputId": "97079c71-9aa3-46a6-fd23-cf1a91230084"
      },
      "outputs": [
        {
          "output_type": "stream",
          "name": "stdout",
          "text": [
            "current device is cuda\n"
          ]
        }
      ],
      "source": [
        "import torch\n",
        "import torch.nn as nn\n",
        "from torch.optim import Adam\n",
        "from transformers import AutoTokenizer, AutoModel\n",
        "from torch.utils.data import Dataset, DataLoader\n",
        "from sklearn.model_selection import train_test_split\n",
        "from sklearn.metrics import accuracy_score\n",
        "import matplotlib.pyplot as plt\n",
        "import pandas as pd\n",
        "import numpy as np\n",
        "\n",
        "device = 'cuda' if torch.cuda.is_available() else 'cpu'\n",
        "print(f'current device is {device}')"
      ]
    },
    {
      "cell_type": "code",
      "source": [
        "df = pd.read_json('/content/news-headlines-dataset-for-sarcasm-detection/Sarcasm_Headlines_Dataset.json', lines=True)"
      ],
      "metadata": {
        "id": "jfN7SVacj6OX"
      },
      "execution_count": null,
      "outputs": []
    },
    {
      "cell_type": "code",
      "source": [
        "df.isna().sum()"
      ],
      "metadata": {
        "colab": {
          "base_uri": "https://localhost:8080/",
          "height": 178
        },
        "id": "5Yer_8VMkp1m",
        "outputId": "0a91d5d0-0e8b-42df-e409-1244b3a0e194"
      },
      "execution_count": null,
      "outputs": [
        {
          "output_type": "execute_result",
          "data": {
            "text/plain": [
              "article_link    0\n",
              "headline        0\n",
              "is_sarcastic    0\n",
              "dtype: int64"
            ],
            "text/html": [
              "<div>\n",
              "<style scoped>\n",
              "    .dataframe tbody tr th:only-of-type {\n",
              "        vertical-align: middle;\n",
              "    }\n",
              "\n",
              "    .dataframe tbody tr th {\n",
              "        vertical-align: top;\n",
              "    }\n",
              "\n",
              "    .dataframe thead th {\n",
              "        text-align: right;\n",
              "    }\n",
              "</style>\n",
              "<table border=\"1\" class=\"dataframe\">\n",
              "  <thead>\n",
              "    <tr style=\"text-align: right;\">\n",
              "      <th></th>\n",
              "      <th>0</th>\n",
              "    </tr>\n",
              "  </thead>\n",
              "  <tbody>\n",
              "    <tr>\n",
              "      <th>article_link</th>\n",
              "      <td>0</td>\n",
              "    </tr>\n",
              "    <tr>\n",
              "      <th>headline</th>\n",
              "      <td>0</td>\n",
              "    </tr>\n",
              "    <tr>\n",
              "      <th>is_sarcastic</th>\n",
              "      <td>0</td>\n",
              "    </tr>\n",
              "  </tbody>\n",
              "</table>\n",
              "</div><br><label><b>dtype:</b> int64</label>"
            ]
          },
          "metadata": {},
          "execution_count": 5
        }
      ]
    },
    {
      "cell_type": "code",
      "source": [
        "df.info()"
      ],
      "metadata": {
        "colab": {
          "base_uri": "https://localhost:8080/"
        },
        "id": "oPr4jHENkvgT",
        "outputId": "ebd27bef-c030-432e-eda4-2c2263fbd479"
      },
      "execution_count": null,
      "outputs": [
        {
          "output_type": "stream",
          "name": "stdout",
          "text": [
            "<class 'pandas.core.frame.DataFrame'>\n",
            "RangeIndex: 26709 entries, 0 to 26708\n",
            "Data columns (total 3 columns):\n",
            " #   Column        Non-Null Count  Dtype \n",
            "---  ------        --------------  ----- \n",
            " 0   article_link  26709 non-null  object\n",
            " 1   headline      26709 non-null  object\n",
            " 2   is_sarcastic  26709 non-null  int64 \n",
            "dtypes: int64(1), object(2)\n",
            "memory usage: 626.1+ KB\n"
          ]
        }
      ]
    },
    {
      "cell_type": "code",
      "source": [
        "df.drop_duplicates(inplace=True)"
      ],
      "metadata": {
        "id": "AgMBZFTCk4FZ"
      },
      "execution_count": null,
      "outputs": []
    },
    {
      "cell_type": "code",
      "source": [
        "df.info()"
      ],
      "metadata": {
        "colab": {
          "base_uri": "https://localhost:8080/"
        },
        "id": "3CzQIQIKk_s-",
        "outputId": "39a0f24d-b720-41c5-9139-33079c2b6945"
      },
      "execution_count": null,
      "outputs": [
        {
          "output_type": "stream",
          "name": "stdout",
          "text": [
            "<class 'pandas.core.frame.DataFrame'>\n",
            "Index: 26708 entries, 0 to 26708\n",
            "Data columns (total 3 columns):\n",
            " #   Column        Non-Null Count  Dtype \n",
            "---  ------        --------------  ----- \n",
            " 0   article_link  26708 non-null  object\n",
            " 1   headline      26708 non-null  object\n",
            " 2   is_sarcastic  26708 non-null  int64 \n",
            "dtypes: int64(1), object(2)\n",
            "memory usage: 834.6+ KB\n"
          ]
        }
      ]
    },
    {
      "cell_type": "code",
      "source": [
        "df.head()"
      ],
      "metadata": {
        "colab": {
          "base_uri": "https://localhost:8080/",
          "height": 206
        },
        "id": "FpBe_tm7lZ1f",
        "outputId": "e76f1086-1665-4197-bd6a-65b73e45bfed"
      },
      "execution_count": null,
      "outputs": [
        {
          "output_type": "execute_result",
          "data": {
            "text/plain": [
              "                                        article_link  \\\n",
              "0  https://www.huffingtonpost.com/entry/versace-b...   \n",
              "1  https://www.huffingtonpost.com/entry/roseanne-...   \n",
              "2  https://local.theonion.com/mom-starting-to-fea...   \n",
              "3  https://politics.theonion.com/boehner-just-wan...   \n",
              "4  https://www.huffingtonpost.com/entry/jk-rowlin...   \n",
              "\n",
              "                                            headline  is_sarcastic  \n",
              "0  former versace store clerk sues over secret 'b...             0  \n",
              "1  the 'roseanne' revival catches up to our thorn...             0  \n",
              "2  mom starting to fear son's web series closest ...             1  \n",
              "3  boehner just wants wife to listen, not come up...             1  \n",
              "4  j.k. rowling wishes snape happy birthday in th...             0  "
            ],
            "text/html": [
              "\n",
              "  <div id=\"df-8371d7eb-ed85-4343-9728-87765fcf884c\" class=\"colab-df-container\">\n",
              "    <div>\n",
              "<style scoped>\n",
              "    .dataframe tbody tr th:only-of-type {\n",
              "        vertical-align: middle;\n",
              "    }\n",
              "\n",
              "    .dataframe tbody tr th {\n",
              "        vertical-align: top;\n",
              "    }\n",
              "\n",
              "    .dataframe thead th {\n",
              "        text-align: right;\n",
              "    }\n",
              "</style>\n",
              "<table border=\"1\" class=\"dataframe\">\n",
              "  <thead>\n",
              "    <tr style=\"text-align: right;\">\n",
              "      <th></th>\n",
              "      <th>article_link</th>\n",
              "      <th>headline</th>\n",
              "      <th>is_sarcastic</th>\n",
              "    </tr>\n",
              "  </thead>\n",
              "  <tbody>\n",
              "    <tr>\n",
              "      <th>0</th>\n",
              "      <td>https://www.huffingtonpost.com/entry/versace-b...</td>\n",
              "      <td>former versace store clerk sues over secret 'b...</td>\n",
              "      <td>0</td>\n",
              "    </tr>\n",
              "    <tr>\n",
              "      <th>1</th>\n",
              "      <td>https://www.huffingtonpost.com/entry/roseanne-...</td>\n",
              "      <td>the 'roseanne' revival catches up to our thorn...</td>\n",
              "      <td>0</td>\n",
              "    </tr>\n",
              "    <tr>\n",
              "      <th>2</th>\n",
              "      <td>https://local.theonion.com/mom-starting-to-fea...</td>\n",
              "      <td>mom starting to fear son's web series closest ...</td>\n",
              "      <td>1</td>\n",
              "    </tr>\n",
              "    <tr>\n",
              "      <th>3</th>\n",
              "      <td>https://politics.theonion.com/boehner-just-wan...</td>\n",
              "      <td>boehner just wants wife to listen, not come up...</td>\n",
              "      <td>1</td>\n",
              "    </tr>\n",
              "    <tr>\n",
              "      <th>4</th>\n",
              "      <td>https://www.huffingtonpost.com/entry/jk-rowlin...</td>\n",
              "      <td>j.k. rowling wishes snape happy birthday in th...</td>\n",
              "      <td>0</td>\n",
              "    </tr>\n",
              "  </tbody>\n",
              "</table>\n",
              "</div>\n",
              "    <div class=\"colab-df-buttons\">\n",
              "\n",
              "  <div class=\"colab-df-container\">\n",
              "    <button class=\"colab-df-convert\" onclick=\"convertToInteractive('df-8371d7eb-ed85-4343-9728-87765fcf884c')\"\n",
              "            title=\"Convert this dataframe to an interactive table.\"\n",
              "            style=\"display:none;\">\n",
              "\n",
              "  <svg xmlns=\"http://www.w3.org/2000/svg\" height=\"24px\" viewBox=\"0 -960 960 960\">\n",
              "    <path d=\"M120-120v-720h720v720H120Zm60-500h600v-160H180v160Zm220 220h160v-160H400v160Zm0 220h160v-160H400v160ZM180-400h160v-160H180v160Zm440 0h160v-160H620v160ZM180-180h160v-160H180v160Zm440 0h160v-160H620v160Z\"/>\n",
              "  </svg>\n",
              "    </button>\n",
              "\n",
              "  <style>\n",
              "    .colab-df-container {\n",
              "      display:flex;\n",
              "      gap: 12px;\n",
              "    }\n",
              "\n",
              "    .colab-df-convert {\n",
              "      background-color: #E8F0FE;\n",
              "      border: none;\n",
              "      border-radius: 50%;\n",
              "      cursor: pointer;\n",
              "      display: none;\n",
              "      fill: #1967D2;\n",
              "      height: 32px;\n",
              "      padding: 0 0 0 0;\n",
              "      width: 32px;\n",
              "    }\n",
              "\n",
              "    .colab-df-convert:hover {\n",
              "      background-color: #E2EBFA;\n",
              "      box-shadow: 0px 1px 2px rgba(60, 64, 67, 0.3), 0px 1px 3px 1px rgba(60, 64, 67, 0.15);\n",
              "      fill: #174EA6;\n",
              "    }\n",
              "\n",
              "    .colab-df-buttons div {\n",
              "      margin-bottom: 4px;\n",
              "    }\n",
              "\n",
              "    [theme=dark] .colab-df-convert {\n",
              "      background-color: #3B4455;\n",
              "      fill: #D2E3FC;\n",
              "    }\n",
              "\n",
              "    [theme=dark] .colab-df-convert:hover {\n",
              "      background-color: #434B5C;\n",
              "      box-shadow: 0px 1px 3px 1px rgba(0, 0, 0, 0.15);\n",
              "      filter: drop-shadow(0px 1px 2px rgba(0, 0, 0, 0.3));\n",
              "      fill: #FFFFFF;\n",
              "    }\n",
              "  </style>\n",
              "\n",
              "    <script>\n",
              "      const buttonEl =\n",
              "        document.querySelector('#df-8371d7eb-ed85-4343-9728-87765fcf884c button.colab-df-convert');\n",
              "      buttonEl.style.display =\n",
              "        google.colab.kernel.accessAllowed ? 'block' : 'none';\n",
              "\n",
              "      async function convertToInteractive(key) {\n",
              "        const element = document.querySelector('#df-8371d7eb-ed85-4343-9728-87765fcf884c');\n",
              "        const dataTable =\n",
              "          await google.colab.kernel.invokeFunction('convertToInteractive',\n",
              "                                                    [key], {});\n",
              "        if (!dataTable) return;\n",
              "\n",
              "        const docLinkHtml = 'Like what you see? Visit the ' +\n",
              "          '<a target=\"_blank\" href=https://colab.research.google.com/notebooks/data_table.ipynb>data table notebook</a>'\n",
              "          + ' to learn more about interactive tables.';\n",
              "        element.innerHTML = '';\n",
              "        dataTable['output_type'] = 'display_data';\n",
              "        await google.colab.output.renderOutput(dataTable, element);\n",
              "        const docLink = document.createElement('div');\n",
              "        docLink.innerHTML = docLinkHtml;\n",
              "        element.appendChild(docLink);\n",
              "      }\n",
              "    </script>\n",
              "  </div>\n",
              "\n",
              "\n",
              "<div id=\"df-471ee671-89bf-4560-b374-4cdd4c8c9276\">\n",
              "  <button class=\"colab-df-quickchart\" onclick=\"quickchart('df-471ee671-89bf-4560-b374-4cdd4c8c9276')\"\n",
              "            title=\"Suggest charts\"\n",
              "            style=\"display:none;\">\n",
              "\n",
              "<svg xmlns=\"http://www.w3.org/2000/svg\" height=\"24px\"viewBox=\"0 0 24 24\"\n",
              "     width=\"24px\">\n",
              "    <g>\n",
              "        <path d=\"M19 3H5c-1.1 0-2 .9-2 2v14c0 1.1.9 2 2 2h14c1.1 0 2-.9 2-2V5c0-1.1-.9-2-2-2zM9 17H7v-7h2v7zm4 0h-2V7h2v10zm4 0h-2v-4h2v4z\"/>\n",
              "    </g>\n",
              "</svg>\n",
              "  </button>\n",
              "\n",
              "<style>\n",
              "  .colab-df-quickchart {\n",
              "      --bg-color: #E8F0FE;\n",
              "      --fill-color: #1967D2;\n",
              "      --hover-bg-color: #E2EBFA;\n",
              "      --hover-fill-color: #174EA6;\n",
              "      --disabled-fill-color: #AAA;\n",
              "      --disabled-bg-color: #DDD;\n",
              "  }\n",
              "\n",
              "  [theme=dark] .colab-df-quickchart {\n",
              "      --bg-color: #3B4455;\n",
              "      --fill-color: #D2E3FC;\n",
              "      --hover-bg-color: #434B5C;\n",
              "      --hover-fill-color: #FFFFFF;\n",
              "      --disabled-bg-color: #3B4455;\n",
              "      --disabled-fill-color: #666;\n",
              "  }\n",
              "\n",
              "  .colab-df-quickchart {\n",
              "    background-color: var(--bg-color);\n",
              "    border: none;\n",
              "    border-radius: 50%;\n",
              "    cursor: pointer;\n",
              "    display: none;\n",
              "    fill: var(--fill-color);\n",
              "    height: 32px;\n",
              "    padding: 0;\n",
              "    width: 32px;\n",
              "  }\n",
              "\n",
              "  .colab-df-quickchart:hover {\n",
              "    background-color: var(--hover-bg-color);\n",
              "    box-shadow: 0 1px 2px rgba(60, 64, 67, 0.3), 0 1px 3px 1px rgba(60, 64, 67, 0.15);\n",
              "    fill: var(--button-hover-fill-color);\n",
              "  }\n",
              "\n",
              "  .colab-df-quickchart-complete:disabled,\n",
              "  .colab-df-quickchart-complete:disabled:hover {\n",
              "    background-color: var(--disabled-bg-color);\n",
              "    fill: var(--disabled-fill-color);\n",
              "    box-shadow: none;\n",
              "  }\n",
              "\n",
              "  .colab-df-spinner {\n",
              "    border: 2px solid var(--fill-color);\n",
              "    border-color: transparent;\n",
              "    border-bottom-color: var(--fill-color);\n",
              "    animation:\n",
              "      spin 1s steps(1) infinite;\n",
              "  }\n",
              "\n",
              "  @keyframes spin {\n",
              "    0% {\n",
              "      border-color: transparent;\n",
              "      border-bottom-color: var(--fill-color);\n",
              "      border-left-color: var(--fill-color);\n",
              "    }\n",
              "    20% {\n",
              "      border-color: transparent;\n",
              "      border-left-color: var(--fill-color);\n",
              "      border-top-color: var(--fill-color);\n",
              "    }\n",
              "    30% {\n",
              "      border-color: transparent;\n",
              "      border-left-color: var(--fill-color);\n",
              "      border-top-color: var(--fill-color);\n",
              "      border-right-color: var(--fill-color);\n",
              "    }\n",
              "    40% {\n",
              "      border-color: transparent;\n",
              "      border-right-color: var(--fill-color);\n",
              "      border-top-color: var(--fill-color);\n",
              "    }\n",
              "    60% {\n",
              "      border-color: transparent;\n",
              "      border-right-color: var(--fill-color);\n",
              "    }\n",
              "    80% {\n",
              "      border-color: transparent;\n",
              "      border-right-color: var(--fill-color);\n",
              "      border-bottom-color: var(--fill-color);\n",
              "    }\n",
              "    90% {\n",
              "      border-color: transparent;\n",
              "      border-bottom-color: var(--fill-color);\n",
              "    }\n",
              "  }\n",
              "</style>\n",
              "\n",
              "  <script>\n",
              "    async function quickchart(key) {\n",
              "      const quickchartButtonEl =\n",
              "        document.querySelector('#' + key + ' button');\n",
              "      quickchartButtonEl.disabled = true;  // To prevent multiple clicks.\n",
              "      quickchartButtonEl.classList.add('colab-df-spinner');\n",
              "      try {\n",
              "        const charts = await google.colab.kernel.invokeFunction(\n",
              "            'suggestCharts', [key], {});\n",
              "      } catch (error) {\n",
              "        console.error('Error during call to suggestCharts:', error);\n",
              "      }\n",
              "      quickchartButtonEl.classList.remove('colab-df-spinner');\n",
              "      quickchartButtonEl.classList.add('colab-df-quickchart-complete');\n",
              "    }\n",
              "    (() => {\n",
              "      let quickchartButtonEl =\n",
              "        document.querySelector('#df-471ee671-89bf-4560-b374-4cdd4c8c9276 button');\n",
              "      quickchartButtonEl.style.display =\n",
              "        google.colab.kernel.accessAllowed ? 'block' : 'none';\n",
              "    })();\n",
              "  </script>\n",
              "</div>\n",
              "\n",
              "    </div>\n",
              "  </div>\n"
            ],
            "application/vnd.google.colaboratory.intrinsic+json": {
              "type": "dataframe",
              "variable_name": "df",
              "summary": "{\n  \"name\": \"df\",\n  \"rows\": 26708,\n  \"fields\": [\n    {\n      \"column\": \"article_link\",\n      \"properties\": {\n        \"dtype\": \"string\",\n        \"num_unique_values\": 26708,\n        \"samples\": [\n          \"https://www.theonion.com/isis-recruiter-excited-to-be-talking-to-popular-high-sc-1819579508\",\n          \"https://www.huffingtonpost.com/entry/jimmy-fallon-could-barely-keep-it-together-during-this-cardi-b-interview_us_5a3c01aae4b06d1621b2de98\",\n          \"https://www.huffingtonpost.com/entry/4-ways-to-support-farmtos_b_5906452.html\"\n        ],\n        \"semantic_type\": \"\",\n        \"description\": \"\"\n      }\n    },\n    {\n      \"column\": \"headline\",\n      \"properties\": {\n        \"dtype\": \"string\",\n        \"num_unique_values\": 26602,\n        \"samples\": [\n          \"departing employee not quite important enough for send-off\",\n          \"college student still managing to look like asshole in picture of village he helped build\",\n          \"fun sticker placed on child's ventilator\"\n        ],\n        \"semantic_type\": \"\",\n        \"description\": \"\"\n      }\n    },\n    {\n      \"column\": \"is_sarcastic\",\n      \"properties\": {\n        \"dtype\": \"number\",\n        \"std\": 0,\n        \"min\": 0,\n        \"max\": 1,\n        \"num_unique_values\": 2,\n        \"samples\": [\n          1,\n          0\n        ],\n        \"semantic_type\": \"\",\n        \"description\": \"\"\n      }\n    }\n  ]\n}"
            }
          },
          "metadata": {},
          "execution_count": 9
        }
      ]
    },
    {
      "cell_type": "code",
      "source": [
        "df.drop(['article_link'], inplace=True, axis=1)"
      ],
      "metadata": {
        "id": "YLCe1CoolfUA"
      },
      "execution_count": null,
      "outputs": []
    },
    {
      "cell_type": "code",
      "source": [
        "df.head()"
      ],
      "metadata": {
        "colab": {
          "base_uri": "https://localhost:8080/",
          "height": 206
        },
        "id": "v2QaQZVdltZX",
        "outputId": "13bba0ce-4605-4906-f303-d0ee0805048a"
      },
      "execution_count": null,
      "outputs": [
        {
          "output_type": "execute_result",
          "data": {
            "text/plain": [
              "                                            headline  is_sarcastic\n",
              "0  former versace store clerk sues over secret 'b...             0\n",
              "1  the 'roseanne' revival catches up to our thorn...             0\n",
              "2  mom starting to fear son's web series closest ...             1\n",
              "3  boehner just wants wife to listen, not come up...             1\n",
              "4  j.k. rowling wishes snape happy birthday in th...             0"
            ],
            "text/html": [
              "\n",
              "  <div id=\"df-b18d5a6b-aaeb-4d03-a3ff-f9795e87c308\" class=\"colab-df-container\">\n",
              "    <div>\n",
              "<style scoped>\n",
              "    .dataframe tbody tr th:only-of-type {\n",
              "        vertical-align: middle;\n",
              "    }\n",
              "\n",
              "    .dataframe tbody tr th {\n",
              "        vertical-align: top;\n",
              "    }\n",
              "\n",
              "    .dataframe thead th {\n",
              "        text-align: right;\n",
              "    }\n",
              "</style>\n",
              "<table border=\"1\" class=\"dataframe\">\n",
              "  <thead>\n",
              "    <tr style=\"text-align: right;\">\n",
              "      <th></th>\n",
              "      <th>headline</th>\n",
              "      <th>is_sarcastic</th>\n",
              "    </tr>\n",
              "  </thead>\n",
              "  <tbody>\n",
              "    <tr>\n",
              "      <th>0</th>\n",
              "      <td>former versace store clerk sues over secret 'b...</td>\n",
              "      <td>0</td>\n",
              "    </tr>\n",
              "    <tr>\n",
              "      <th>1</th>\n",
              "      <td>the 'roseanne' revival catches up to our thorn...</td>\n",
              "      <td>0</td>\n",
              "    </tr>\n",
              "    <tr>\n",
              "      <th>2</th>\n",
              "      <td>mom starting to fear son's web series closest ...</td>\n",
              "      <td>1</td>\n",
              "    </tr>\n",
              "    <tr>\n",
              "      <th>3</th>\n",
              "      <td>boehner just wants wife to listen, not come up...</td>\n",
              "      <td>1</td>\n",
              "    </tr>\n",
              "    <tr>\n",
              "      <th>4</th>\n",
              "      <td>j.k. rowling wishes snape happy birthday in th...</td>\n",
              "      <td>0</td>\n",
              "    </tr>\n",
              "  </tbody>\n",
              "</table>\n",
              "</div>\n",
              "    <div class=\"colab-df-buttons\">\n",
              "\n",
              "  <div class=\"colab-df-container\">\n",
              "    <button class=\"colab-df-convert\" onclick=\"convertToInteractive('df-b18d5a6b-aaeb-4d03-a3ff-f9795e87c308')\"\n",
              "            title=\"Convert this dataframe to an interactive table.\"\n",
              "            style=\"display:none;\">\n",
              "\n",
              "  <svg xmlns=\"http://www.w3.org/2000/svg\" height=\"24px\" viewBox=\"0 -960 960 960\">\n",
              "    <path d=\"M120-120v-720h720v720H120Zm60-500h600v-160H180v160Zm220 220h160v-160H400v160Zm0 220h160v-160H400v160ZM180-400h160v-160H180v160Zm440 0h160v-160H620v160ZM180-180h160v-160H180v160Zm440 0h160v-160H620v160Z\"/>\n",
              "  </svg>\n",
              "    </button>\n",
              "\n",
              "  <style>\n",
              "    .colab-df-container {\n",
              "      display:flex;\n",
              "      gap: 12px;\n",
              "    }\n",
              "\n",
              "    .colab-df-convert {\n",
              "      background-color: #E8F0FE;\n",
              "      border: none;\n",
              "      border-radius: 50%;\n",
              "      cursor: pointer;\n",
              "      display: none;\n",
              "      fill: #1967D2;\n",
              "      height: 32px;\n",
              "      padding: 0 0 0 0;\n",
              "      width: 32px;\n",
              "    }\n",
              "\n",
              "    .colab-df-convert:hover {\n",
              "      background-color: #E2EBFA;\n",
              "      box-shadow: 0px 1px 2px rgba(60, 64, 67, 0.3), 0px 1px 3px 1px rgba(60, 64, 67, 0.15);\n",
              "      fill: #174EA6;\n",
              "    }\n",
              "\n",
              "    .colab-df-buttons div {\n",
              "      margin-bottom: 4px;\n",
              "    }\n",
              "\n",
              "    [theme=dark] .colab-df-convert {\n",
              "      background-color: #3B4455;\n",
              "      fill: #D2E3FC;\n",
              "    }\n",
              "\n",
              "    [theme=dark] .colab-df-convert:hover {\n",
              "      background-color: #434B5C;\n",
              "      box-shadow: 0px 1px 3px 1px rgba(0, 0, 0, 0.15);\n",
              "      filter: drop-shadow(0px 1px 2px rgba(0, 0, 0, 0.3));\n",
              "      fill: #FFFFFF;\n",
              "    }\n",
              "  </style>\n",
              "\n",
              "    <script>\n",
              "      const buttonEl =\n",
              "        document.querySelector('#df-b18d5a6b-aaeb-4d03-a3ff-f9795e87c308 button.colab-df-convert');\n",
              "      buttonEl.style.display =\n",
              "        google.colab.kernel.accessAllowed ? 'block' : 'none';\n",
              "\n",
              "      async function convertToInteractive(key) {\n",
              "        const element = document.querySelector('#df-b18d5a6b-aaeb-4d03-a3ff-f9795e87c308');\n",
              "        const dataTable =\n",
              "          await google.colab.kernel.invokeFunction('convertToInteractive',\n",
              "                                                    [key], {});\n",
              "        if (!dataTable) return;\n",
              "\n",
              "        const docLinkHtml = 'Like what you see? Visit the ' +\n",
              "          '<a target=\"_blank\" href=https://colab.research.google.com/notebooks/data_table.ipynb>data table notebook</a>'\n",
              "          + ' to learn more about interactive tables.';\n",
              "        element.innerHTML = '';\n",
              "        dataTable['output_type'] = 'display_data';\n",
              "        await google.colab.output.renderOutput(dataTable, element);\n",
              "        const docLink = document.createElement('div');\n",
              "        docLink.innerHTML = docLinkHtml;\n",
              "        element.appendChild(docLink);\n",
              "      }\n",
              "    </script>\n",
              "  </div>\n",
              "\n",
              "\n",
              "<div id=\"df-a0f1c73c-702c-4ec3-936b-6cc4b52072bf\">\n",
              "  <button class=\"colab-df-quickchart\" onclick=\"quickchart('df-a0f1c73c-702c-4ec3-936b-6cc4b52072bf')\"\n",
              "            title=\"Suggest charts\"\n",
              "            style=\"display:none;\">\n",
              "\n",
              "<svg xmlns=\"http://www.w3.org/2000/svg\" height=\"24px\"viewBox=\"0 0 24 24\"\n",
              "     width=\"24px\">\n",
              "    <g>\n",
              "        <path d=\"M19 3H5c-1.1 0-2 .9-2 2v14c0 1.1.9 2 2 2h14c1.1 0 2-.9 2-2V5c0-1.1-.9-2-2-2zM9 17H7v-7h2v7zm4 0h-2V7h2v10zm4 0h-2v-4h2v4z\"/>\n",
              "    </g>\n",
              "</svg>\n",
              "  </button>\n",
              "\n",
              "<style>\n",
              "  .colab-df-quickchart {\n",
              "      --bg-color: #E8F0FE;\n",
              "      --fill-color: #1967D2;\n",
              "      --hover-bg-color: #E2EBFA;\n",
              "      --hover-fill-color: #174EA6;\n",
              "      --disabled-fill-color: #AAA;\n",
              "      --disabled-bg-color: #DDD;\n",
              "  }\n",
              "\n",
              "  [theme=dark] .colab-df-quickchart {\n",
              "      --bg-color: #3B4455;\n",
              "      --fill-color: #D2E3FC;\n",
              "      --hover-bg-color: #434B5C;\n",
              "      --hover-fill-color: #FFFFFF;\n",
              "      --disabled-bg-color: #3B4455;\n",
              "      --disabled-fill-color: #666;\n",
              "  }\n",
              "\n",
              "  .colab-df-quickchart {\n",
              "    background-color: var(--bg-color);\n",
              "    border: none;\n",
              "    border-radius: 50%;\n",
              "    cursor: pointer;\n",
              "    display: none;\n",
              "    fill: var(--fill-color);\n",
              "    height: 32px;\n",
              "    padding: 0;\n",
              "    width: 32px;\n",
              "  }\n",
              "\n",
              "  .colab-df-quickchart:hover {\n",
              "    background-color: var(--hover-bg-color);\n",
              "    box-shadow: 0 1px 2px rgba(60, 64, 67, 0.3), 0 1px 3px 1px rgba(60, 64, 67, 0.15);\n",
              "    fill: var(--button-hover-fill-color);\n",
              "  }\n",
              "\n",
              "  .colab-df-quickchart-complete:disabled,\n",
              "  .colab-df-quickchart-complete:disabled:hover {\n",
              "    background-color: var(--disabled-bg-color);\n",
              "    fill: var(--disabled-fill-color);\n",
              "    box-shadow: none;\n",
              "  }\n",
              "\n",
              "  .colab-df-spinner {\n",
              "    border: 2px solid var(--fill-color);\n",
              "    border-color: transparent;\n",
              "    border-bottom-color: var(--fill-color);\n",
              "    animation:\n",
              "      spin 1s steps(1) infinite;\n",
              "  }\n",
              "\n",
              "  @keyframes spin {\n",
              "    0% {\n",
              "      border-color: transparent;\n",
              "      border-bottom-color: var(--fill-color);\n",
              "      border-left-color: var(--fill-color);\n",
              "    }\n",
              "    20% {\n",
              "      border-color: transparent;\n",
              "      border-left-color: var(--fill-color);\n",
              "      border-top-color: var(--fill-color);\n",
              "    }\n",
              "    30% {\n",
              "      border-color: transparent;\n",
              "      border-left-color: var(--fill-color);\n",
              "      border-top-color: var(--fill-color);\n",
              "      border-right-color: var(--fill-color);\n",
              "    }\n",
              "    40% {\n",
              "      border-color: transparent;\n",
              "      border-right-color: var(--fill-color);\n",
              "      border-top-color: var(--fill-color);\n",
              "    }\n",
              "    60% {\n",
              "      border-color: transparent;\n",
              "      border-right-color: var(--fill-color);\n",
              "    }\n",
              "    80% {\n",
              "      border-color: transparent;\n",
              "      border-right-color: var(--fill-color);\n",
              "      border-bottom-color: var(--fill-color);\n",
              "    }\n",
              "    90% {\n",
              "      border-color: transparent;\n",
              "      border-bottom-color: var(--fill-color);\n",
              "    }\n",
              "  }\n",
              "</style>\n",
              "\n",
              "  <script>\n",
              "    async function quickchart(key) {\n",
              "      const quickchartButtonEl =\n",
              "        document.querySelector('#' + key + ' button');\n",
              "      quickchartButtonEl.disabled = true;  // To prevent multiple clicks.\n",
              "      quickchartButtonEl.classList.add('colab-df-spinner');\n",
              "      try {\n",
              "        const charts = await google.colab.kernel.invokeFunction(\n",
              "            'suggestCharts', [key], {});\n",
              "      } catch (error) {\n",
              "        console.error('Error during call to suggestCharts:', error);\n",
              "      }\n",
              "      quickchartButtonEl.classList.remove('colab-df-spinner');\n",
              "      quickchartButtonEl.classList.add('colab-df-quickchart-complete');\n",
              "    }\n",
              "    (() => {\n",
              "      let quickchartButtonEl =\n",
              "        document.querySelector('#df-a0f1c73c-702c-4ec3-936b-6cc4b52072bf button');\n",
              "      quickchartButtonEl.style.display =\n",
              "        google.colab.kernel.accessAllowed ? 'block' : 'none';\n",
              "    })();\n",
              "  </script>\n",
              "</div>\n",
              "\n",
              "    </div>\n",
              "  </div>\n"
            ],
            "application/vnd.google.colaboratory.intrinsic+json": {
              "type": "dataframe",
              "variable_name": "df",
              "summary": "{\n  \"name\": \"df\",\n  \"rows\": 26708,\n  \"fields\": [\n    {\n      \"column\": \"headline\",\n      \"properties\": {\n        \"dtype\": \"string\",\n        \"num_unique_values\": 26602,\n        \"samples\": [\n          \"departing employee not quite important enough for send-off\",\n          \"college student still managing to look like asshole in picture of village he helped build\",\n          \"fun sticker placed on child's ventilator\"\n        ],\n        \"semantic_type\": \"\",\n        \"description\": \"\"\n      }\n    },\n    {\n      \"column\": \"is_sarcastic\",\n      \"properties\": {\n        \"dtype\": \"number\",\n        \"std\": 0,\n        \"min\": 0,\n        \"max\": 1,\n        \"num_unique_values\": 2,\n        \"samples\": [\n          1,\n          0\n        ],\n        \"semantic_type\": \"\",\n        \"description\": \"\"\n      }\n    }\n  ]\n}"
            }
          },
          "metadata": {},
          "execution_count": 11
        }
      ]
    },
    {
      "cell_type": "markdown",
      "source": [
        "**Bir adet tekrarlanan  veri silindi**\n"
      ],
      "metadata": {
        "id": "NqCC2sLClHG0"
      }
    },
    {
      "cell_type": "code",
      "source": [
        "features = np.array(df['headline'])\n",
        "labels = np.array(df['is_sarcastic'])"
      ],
      "metadata": {
        "id": "3s3iMPJdlUS6"
      },
      "execution_count": null,
      "outputs": []
    },
    {
      "cell_type": "code",
      "source": [
        "X_train, X_test,y_train,  y_test = train_test_split(features, labels, test_size=.3)\n",
        "X_val, X_test, y_val, y_test = train_test_split(X_test, y_test, test_size=.5)"
      ],
      "metadata": {
        "id": "uTpgNDgHlCwW"
      },
      "execution_count": null,
      "outputs": []
    },
    {
      "cell_type": "code",
      "source": [
        "X_train.shape, X_val.shape, X_test.shape"
      ],
      "metadata": {
        "colab": {
          "base_uri": "https://localhost:8080/"
        },
        "id": "7oJh6U1amDns",
        "outputId": "380465d4-0e63-4aa5-9d2b-af3e2b34e5a7"
      },
      "execution_count": null,
      "outputs": [
        {
          "output_type": "execute_result",
          "data": {
            "text/plain": [
              "((18695,), (4006,), (4007,))"
            ]
          },
          "metadata": {},
          "execution_count": 14
        }
      ]
    },
    {
      "cell_type": "code",
      "source": [
        "tokenizer = AutoTokenizer.from_pretrained('google-bert/bert-base-uncased')\n",
        "bert_base = AutoModel.from_pretrained('google-bert/bert-base-uncased')"
      ],
      "metadata": {
        "colab": {
          "base_uri": "https://localhost:8080/"
        },
        "id": "lNdp9VPhmaUL",
        "outputId": "52b42f1f-78d9-4301-baf0-ee43fbf19f80"
      },
      "execution_count": null,
      "outputs": [
        {
          "output_type": "stream",
          "name": "stderr",
          "text": [
            "/usr/local/lib/python3.11/dist-packages/huggingface_hub/utils/_auth.py:94: UserWarning: \n",
            "The secret `HF_TOKEN` does not exist in your Colab secrets.\n",
            "To authenticate with the Hugging Face Hub, create a token in your settings tab (https://huggingface.co/settings/tokens), set it as secret in your Google Colab and restart your session.\n",
            "You will be able to reuse this secret in all of your notebooks.\n",
            "Please note that authentication is recommended but still optional to access public models or datasets.\n",
            "  warnings.warn(\n"
          ]
        }
      ]
    },
    {
      "cell_type": "code",
      "source": [
        "class dataset(Dataset):\n",
        "\n",
        "  def __init__(self, X,Y):\n",
        "    self.X = [ tokenizer(\n",
        "        x,\n",
        "        max_length = 100,\n",
        "        truncation = True,\n",
        "        padding = \"max_length\",\n",
        "        return_tensors = 'pt'). to(device)\n",
        "        for x in X\n",
        "               ]\n",
        "    self.Y = torch.tensor(Y, dtype=torch.float32).to(device)\n",
        "\n",
        "  def __len__(self):\n",
        "    return len(self.X)\n",
        "\n",
        "  def __getitem__(self, idx):\n",
        "    return self.X[idx], self.Y[idx]\n",
        "\n",
        "train_dataset = dataset(X_train, y_train)\n",
        "validation_dataset = dataset(X_val, y_val)\n",
        "test_dataset = dataset(X_test, y_test)"
      ],
      "metadata": {
        "id": "FLWyUXwznQXJ"
      },
      "execution_count": null,
      "outputs": []
    },
    {
      "cell_type": "code",
      "source": [
        "batch_size = 2048\n",
        "epochs = 100\n",
        "lr = 1e-4"
      ],
      "metadata": {
        "id": "w4ztQnM8pQnV"
      },
      "execution_count": null,
      "outputs": []
    },
    {
      "cell_type": "code",
      "source": [
        "generator = torch.Generator().manual_seed(12)"
      ],
      "metadata": {
        "id": "GIkmA744rDbd"
      },
      "execution_count": null,
      "outputs": []
    },
    {
      "cell_type": "code",
      "source": [
        "train_loader = DataLoader(dataset=train_dataset, batch_size=batch_size, drop_last=True,\n",
        "                          shuffle=True, generator=generator)\n",
        "val_loader = DataLoader(dataset=validation_dataset, batch_size=batch_size, drop_last=True,\n",
        "                          shuffle=True, generator=generator)\n",
        "test_loader = DataLoader(dataset=test_dataset, batch_size=batch_size, drop_last=True,\n",
        "                          shuffle=True, generator=generator)"
      ],
      "metadata": {
        "id": "Oe2_ftqoqaTk"
      },
      "execution_count": null,
      "outputs": []
    },
    {
      "cell_type": "code",
      "source": [
        "class bert_model(nn.Module):\n",
        "\n",
        "  def __init__(self, bert):\n",
        "    super().__init__()\n",
        "    self.bert = bert\n",
        "    self.ln1 = nn.Linear(768, 768 // 2)\n",
        "    self.ln2 = nn.Linear(768 // 2, 1) # here 1 for classificatio task\n",
        "    self.gelu = torch.nn.GELU(approximate='tanh')\n",
        "    self.sigmoid = nn.Sigmoid()\n",
        "    self.dropout = nn.Dropout(0.1, inplace=False)\n",
        "\n",
        "  def forward(self, input_ids, attention_mask):\n",
        "    pooled_output = self.bert(input_ids, attention_mask, return_dict = False)[0][:,0]\n",
        "    output = self.ln1(pooled_output)\n",
        "    output = self.dropout(output)\n",
        "    output = self.gelu(output)\n",
        "    output = self.ln2(output)\n",
        "    output = self.sigmoid(output)\n",
        "\n",
        "    return output"
      ],
      "metadata": {
        "id": "idWx69B6rQLu"
      },
      "execution_count": null,
      "outputs": []
    },
    {
      "cell_type": "code",
      "source": [
        "for param in bert_base.parameters():\n",
        "  param.requires_grad = False"
      ],
      "metadata": {
        "id": "Gx9QLb7wtWiZ"
      },
      "execution_count": null,
      "outputs": []
    },
    {
      "cell_type": "code",
      "source": [
        "bert_for_calssification = bert_model(bert_base).to(device)"
      ],
      "metadata": {
        "id": "7JK3bbm7ukPO"
      },
      "execution_count": null,
      "outputs": []
    },
    {
      "cell_type": "code",
      "source": [
        "bert_for_calssification"
      ],
      "metadata": {
        "colab": {
          "base_uri": "https://localhost:8080/"
        },
        "collapsed": true,
        "id": "ZBU6alB-uzTH",
        "outputId": "087061bc-bff4-47b8-8f68-52221bd43267"
      },
      "execution_count": null,
      "outputs": [
        {
          "output_type": "execute_result",
          "data": {
            "text/plain": [
              "bert_model(\n",
              "  (bert): BertModel(\n",
              "    (embeddings): BertEmbeddings(\n",
              "      (word_embeddings): Embedding(30522, 768, padding_idx=0)\n",
              "      (position_embeddings): Embedding(512, 768)\n",
              "      (token_type_embeddings): Embedding(2, 768)\n",
              "      (LayerNorm): LayerNorm((768,), eps=1e-12, elementwise_affine=True)\n",
              "      (dropout): Dropout(p=0.1, inplace=False)\n",
              "    )\n",
              "    (encoder): BertEncoder(\n",
              "      (layer): ModuleList(\n",
              "        (0-11): 12 x BertLayer(\n",
              "          (attention): BertAttention(\n",
              "            (self): BertSdpaSelfAttention(\n",
              "              (query): Linear(in_features=768, out_features=768, bias=True)\n",
              "              (key): Linear(in_features=768, out_features=768, bias=True)\n",
              "              (value): Linear(in_features=768, out_features=768, bias=True)\n",
              "              (dropout): Dropout(p=0.1, inplace=False)\n",
              "            )\n",
              "            (output): BertSelfOutput(\n",
              "              (dense): Linear(in_features=768, out_features=768, bias=True)\n",
              "              (LayerNorm): LayerNorm((768,), eps=1e-12, elementwise_affine=True)\n",
              "              (dropout): Dropout(p=0.1, inplace=False)\n",
              "            )\n",
              "          )\n",
              "          (intermediate): BertIntermediate(\n",
              "            (dense): Linear(in_features=768, out_features=3072, bias=True)\n",
              "            (intermediate_act_fn): GELUActivation()\n",
              "          )\n",
              "          (output): BertOutput(\n",
              "            (dense): Linear(in_features=3072, out_features=768, bias=True)\n",
              "            (LayerNorm): LayerNorm((768,), eps=1e-12, elementwise_affine=True)\n",
              "            (dropout): Dropout(p=0.1, inplace=False)\n",
              "          )\n",
              "        )\n",
              "      )\n",
              "    )\n",
              "    (pooler): BertPooler(\n",
              "      (dense): Linear(in_features=768, out_features=768, bias=True)\n",
              "      (activation): Tanh()\n",
              "    )\n",
              "  )\n",
              "  (ln1): Linear(in_features=768, out_features=384, bias=True)\n",
              "  (ln2): Linear(in_features=384, out_features=1, bias=True)\n",
              "  (gelu): GELU(approximate='tanh')\n",
              "  (sigmoid): Sigmoid()\n",
              "  (dropout): Dropout(p=0.1, inplace=False)\n",
              ")"
            ]
          },
          "metadata": {},
          "execution_count": 23
        }
      ]
    },
    {
      "cell_type": "code",
      "source": [
        "criterion = nn.BCELoss()\n",
        "optimizer = Adam(bert_for_calssification.parameters(), lr = lr)"
      ],
      "metadata": {
        "id": "puSVLMw8vkrr"
      },
      "execution_count": null,
      "outputs": []
    },
    {
      "cell_type": "code",
      "source": [
        "total_loss_train_plot = []\n",
        "total_loss_val_plot = []\n",
        "total_acc_train_plot = []\n",
        "total_acc_val_plot = []\n",
        "\n",
        "for epoch in range(epochs):\n",
        "  total_acc_train = 0\n",
        "  total_loss_train = 0\n",
        "  total_acc_val = 0\n",
        "  total_loss_val = 0\n",
        "\n",
        "  for index, data in enumerate(train_loader):\n",
        "    inputs, labels = data\n",
        "    inputs.to(device)\n",
        "    labels.to(device)\n",
        "\n",
        "    prediction = bert_for_calssification(inputs['input_ids'].squeeze(1),inputs['attention_mask'].squeeze(1)).squeeze(1)\n",
        "    batch_loss = criterion(prediction, labels)\n",
        "    total_loss_train += batch_loss.item()\n",
        "\n",
        "    acc = (prediction.round() == labels).sum().item()\n",
        "\n",
        "    total_acc_train += acc\n",
        "    batch_loss.backward()\n",
        "    optimizer.step()\n",
        "    optimizer.zero_grad()\n",
        "\n",
        "  with torch.no_grad():\n",
        "    for index, data in enumerate(val_loader):\n",
        "      inputs, labels = data\n",
        "      inputs.to(device)\n",
        "      labels.to(device)\n",
        "\n",
        "      prediction = bert_for_calssification(inputs['input_ids'].squeeze(1), inputs['attention_mask'].squeeze(1)).squeeze(1)\n",
        "      batch_loss = criterion(prediction, labels)\n",
        "      total_loss_val += batch_loss.item()\n",
        "\n",
        "      acc = (prediction.round() == labels).sum().item()\n",
        "\n",
        "      total_acc_val += acc\n",
        "\n",
        "  total_loss_train_plot.append(round(total_loss_train/1000, 4))\n",
        "  total_loss_val_plot.append(round(total_loss_val/1000, 4))\n",
        "  total_acc_train_plot.append(round((total_acc_train/train_dataset.__len__()) * 100 , 4))\n",
        "  total_acc_val_plot.append(round((total_acc_train/validation_dataset.__len__()) * 100 , 4))\n",
        "\n",
        "  print(f'''Epoch no. {epoch + 1} Train Loss: {total_loss_train/1000:.4f} Train Accuracy: {(total_acc_train/(train_dataset.__len__())*100):.4f} Validation Loss: {total_loss_val/100:.4f} Validation Accuracy: {(total_acc_val/(validation_dataset.__len__())*100):.4f}''')\n",
        "  print(\"=\"*50)"
      ],
      "metadata": {
        "colab": {
          "base_uri": "https://localhost:8080/",
          "height": 1000
        },
        "id": "IA8Z3lsywPsN",
        "outputId": "4324b8ff-00bb-4863-94a9-919f368f5475"
      },
      "execution_count": null,
      "outputs": [
        {
          "output_type": "stream",
          "name": "stdout",
          "text": [
            "Epoch no. 1 Train Loss: 0.0061 Train Accuracy: 53.8540 Validation Loss: 0.0065 Validation Accuracy: 30.3045\n",
            "==================================================\n",
            "Epoch no. 2 Train Loss: 0.0057 Train Accuracy: 62.3322 Validation Loss: 0.0061 Validation Accuracy: 35.9710\n",
            "==================================================\n",
            "Epoch no. 3 Train Loss: 0.0054 Train Accuracy: 70.6767 Validation Loss: 0.0057 Validation Accuracy: 37.9181\n",
            "==================================================\n",
            "Epoch no. 4 Train Loss: 0.0051 Train Accuracy: 72.4525 Validation Loss: 0.0053 Validation Accuracy: 39.0914\n",
            "==================================================\n",
            "Epoch no. 5 Train Loss: 0.0048 Train Accuracy: 74.6349 Validation Loss: 0.0051 Validation Accuracy: 40.1897\n",
            "==================================================\n",
            "Epoch no. 6 Train Loss: 0.0045 Train Accuracy: 76.3306 Validation Loss: 0.0049 Validation Accuracy: 40.2396\n",
            "==================================================\n",
            "Epoch no. 7 Train Loss: 0.0043 Train Accuracy: 77.7213 Validation Loss: 0.0047 Validation Accuracy: 40.7139\n",
            "==================================================\n",
            "Epoch no. 8 Train Loss: 0.0042 Train Accuracy: 78.8981 Validation Loss: 0.0045 Validation Accuracy: 41.6625\n",
            "==================================================\n",
            "Epoch no. 9 Train Loss: 0.0040 Train Accuracy: 79.7112 Validation Loss: 0.0043 Validation Accuracy: 41.8622\n",
            "==================================================\n",
            "Epoch no. 10 Train Loss: 0.0039 Train Accuracy: 80.2995 Validation Loss: 0.0043 Validation Accuracy: 42.0120\n",
            "==================================================\n",
            "Epoch no. 11 Train Loss: 0.0038 Train Accuracy: 81.0431 Validation Loss: 0.0041 Validation Accuracy: 42.1618\n",
            "==================================================\n",
            "Epoch no. 12 Train Loss: 0.0037 Train Accuracy: 81.3800 Validation Loss: 0.0041 Validation Accuracy: 42.4613\n",
            "==================================================\n",
            "Epoch no. 13 Train Loss: 0.0037 Train Accuracy: 81.8882 Validation Loss: 0.0040 Validation Accuracy: 42.3115\n",
            "==================================================\n",
            "Epoch no. 14 Train Loss: 0.0036 Train Accuracy: 82.2305 Validation Loss: 0.0040 Validation Accuracy: 42.3615\n",
            "==================================================\n",
            "Epoch no. 15 Train Loss: 0.0035 Train Accuracy: 82.4499 Validation Loss: 0.0040 Validation Accuracy: 42.2366\n",
            "==================================================\n",
            "Epoch no. 16 Train Loss: 0.0035 Train Accuracy: 82.7280 Validation Loss: 0.0039 Validation Accuracy: 42.7359\n",
            "==================================================\n",
            "Epoch no. 17 Train Loss: 0.0034 Train Accuracy: 82.9741 Validation Loss: 0.0037 Validation Accuracy: 43.2351\n",
            "==================================================\n",
            "Epoch no. 18 Train Loss: 0.0033 Train Accuracy: 83.2683 Validation Loss: 0.0037 Validation Accuracy: 42.8108\n",
            "==================================================\n",
            "Epoch no. 19 Train Loss: 0.0033 Train Accuracy: 83.3378 Validation Loss: 0.0037 Validation Accuracy: 42.6860\n",
            "==================================================\n",
            "Epoch no. 20 Train Loss: 0.0033 Train Accuracy: 83.4555 Validation Loss: 0.0036 Validation Accuracy: 43.3100\n",
            "==================================================\n",
            "Epoch no. 21 Train Loss: 0.0032 Train Accuracy: 83.5785 Validation Loss: 0.0036 Validation Accuracy: 43.0105\n",
            "==================================================\n",
            "Epoch no. 22 Train Loss: 0.0032 Train Accuracy: 83.7978 Validation Loss: 0.0036 Validation Accuracy: 43.3350\n",
            "==================================================\n",
            "Epoch no. 23 Train Loss: 0.0032 Train Accuracy: 83.9850 Validation Loss: 0.0037 Validation Accuracy: 43.5846\n",
            "==================================================\n",
            "Epoch no. 24 Train Loss: 0.0031 Train Accuracy: 83.9315 Validation Loss: 0.0035 Validation Accuracy: 43.8592\n",
            "==================================================\n",
            "Epoch no. 25 Train Loss: 0.0031 Train Accuracy: 84.1508 Validation Loss: 0.0034 Validation Accuracy: 43.8093\n",
            "==================================================\n",
            "Epoch no. 26 Train Loss: 0.0031 Train Accuracy: 84.0492 Validation Loss: 0.0035 Validation Accuracy: 43.4598\n",
            "==================================================\n",
            "Epoch no. 27 Train Loss: 0.0031 Train Accuracy: 84.3541 Validation Loss: 0.0037 Validation Accuracy: 43.2102\n",
            "==================================================\n",
            "Epoch no. 28 Train Loss: 0.0030 Train Accuracy: 84.3274 Validation Loss: 0.0034 Validation Accuracy: 43.8842\n",
            "==================================================\n",
            "Epoch no. 29 Train Loss: 0.0030 Train Accuracy: 84.4397 Validation Loss: 0.0035 Validation Accuracy: 43.6595\n",
            "==================================================\n",
            "Epoch no. 30 Train Loss: 0.0030 Train Accuracy: 84.5627 Validation Loss: 0.0033 Validation Accuracy: 43.7344\n",
            "==================================================\n",
            "Epoch no. 31 Train Loss: 0.0030 Train Accuracy: 84.6857 Validation Loss: 0.0033 Validation Accuracy: 44.1837\n",
            "==================================================\n",
            "Epoch no. 32 Train Loss: 0.0030 Train Accuracy: 84.6002 Validation Loss: 0.0032 Validation Accuracy: 44.5831\n",
            "==================================================\n",
            "Epoch no. 33 Train Loss: 0.0029 Train Accuracy: 84.8409 Validation Loss: 0.0034 Validation Accuracy: 43.6096\n",
            "==================================================\n",
            "Epoch no. 34 Train Loss: 0.0029 Train Accuracy: 84.9104 Validation Loss: 0.0033 Validation Accuracy: 43.9341\n",
            "==================================================\n",
            "Epoch no. 35 Train Loss: 0.0029 Train Accuracy: 84.9211 Validation Loss: 0.0032 Validation Accuracy: 44.2836\n",
            "==================================================\n",
            "Epoch no. 36 Train Loss: 0.0029 Train Accuracy: 84.9906 Validation Loss: 0.0034 Validation Accuracy: 44.0589\n",
            "==================================================\n",
            "Epoch no. 37 Train Loss: 0.0029 Train Accuracy: 85.0602 Validation Loss: 0.0033 Validation Accuracy: 44.0589\n",
            "==================================================\n",
            "Epoch no. 38 Train Loss: 0.0029 Train Accuracy: 85.0441 Validation Loss: 0.0034 Validation Accuracy: 43.6345\n",
            "==================================================\n",
            "Epoch no. 39 Train Loss: 0.0029 Train Accuracy: 85.0869 Validation Loss: 0.0033 Validation Accuracy: 44.1837\n",
            "==================================================\n",
            "Epoch no. 40 Train Loss: 0.0029 Train Accuracy: 85.1939 Validation Loss: 0.0034 Validation Accuracy: 43.4598\n",
            "==================================================\n",
            "Epoch no. 41 Train Loss: 0.0028 Train Accuracy: 85.1404 Validation Loss: 0.0033 Validation Accuracy: 44.0339\n",
            "==================================================\n",
            "Epoch no. 42 Train Loss: 0.0028 Train Accuracy: 85.2848 Validation Loss: 0.0032 Validation Accuracy: 44.6081\n",
            "==================================================\n",
            "Epoch no. 43 Train Loss: 0.0028 Train Accuracy: 85.5576 Validation Loss: 0.0032 Validation Accuracy: 44.2336\n",
            "==================================================\n",
            "Epoch no. 44 Train Loss: 0.0028 Train Accuracy: 85.4293 Validation Loss: 0.0034 Validation Accuracy: 43.6345\n",
            "==================================================\n",
            "Epoch no. 45 Train Loss: 0.0028 Train Accuracy: 85.5309 Validation Loss: 0.0031 Validation Accuracy: 44.1837\n",
            "==================================================\n",
            "Epoch no. 46 Train Loss: 0.0028 Train Accuracy: 85.4988 Validation Loss: 0.0031 Validation Accuracy: 44.4833\n",
            "==================================================\n",
            "Epoch no. 47 Train Loss: 0.0028 Train Accuracy: 85.6272 Validation Loss: 0.0034 Validation Accuracy: 43.6845\n",
            "==================================================\n",
            "Epoch no. 48 Train Loss: 0.0028 Train Accuracy: 85.6860 Validation Loss: 0.0032 Validation Accuracy: 44.3085\n",
            "==================================================\n",
            "Epoch no. 49 Train Loss: 0.0028 Train Accuracy: 85.5897 Validation Loss: 0.0033 Validation Accuracy: 43.7344\n",
            "==================================================\n",
            "Epoch no. 50 Train Loss: 0.0027 Train Accuracy: 85.6379 Validation Loss: 0.0033 Validation Accuracy: 43.7594\n",
            "==================================================\n",
            "Epoch no. 51 Train Loss: 0.0027 Train Accuracy: 85.6325 Validation Loss: 0.0032 Validation Accuracy: 43.9840\n",
            "==================================================\n",
            "Epoch no. 52 Train Loss: 0.0027 Train Accuracy: 85.6486 Validation Loss: 0.0034 Validation Accuracy: 43.7594\n",
            "==================================================\n",
            "Epoch no. 53 Train Loss: 0.0027 Train Accuracy: 85.7609 Validation Loss: 0.0032 Validation Accuracy: 44.0839\n",
            "==================================================\n",
            "Epoch no. 54 Train Loss: 0.0027 Train Accuracy: 85.7074 Validation Loss: 0.0032 Validation Accuracy: 43.9091\n",
            "==================================================\n",
            "Epoch no. 55 Train Loss: 0.0027 Train Accuracy: 85.8304 Validation Loss: 0.0031 Validation Accuracy: 44.3085\n",
            "==================================================\n",
            "Epoch no. 56 Train Loss: 0.0027 Train Accuracy: 85.8144 Validation Loss: 0.0031 Validation Accuracy: 43.9341\n",
            "==================================================\n",
            "Epoch no. 57 Train Loss: 0.0027 Train Accuracy: 85.9642 Validation Loss: 0.0032 Validation Accuracy: 44.1338\n",
            "==================================================\n",
            "Epoch no. 58 Train Loss: 0.0027 Train Accuracy: 86.0658 Validation Loss: 0.0032 Validation Accuracy: 44.3834\n",
            "==================================================\n",
            "Epoch no. 59 Train Loss: 0.0027 Train Accuracy: 85.9481 Validation Loss: 0.0033 Validation Accuracy: 44.1088\n",
            "==================================================\n",
            "Epoch no. 60 Train Loss: 0.0027 Train Accuracy: 86.0551 Validation Loss: 0.0033 Validation Accuracy: 43.8842\n",
            "==================================================\n",
            "Epoch no. 61 Train Loss: 0.0027 Train Accuracy: 86.0177 Validation Loss: 0.0031 Validation Accuracy: 44.4084\n",
            "==================================================\n",
            "Epoch no. 62 Train Loss: 0.0027 Train Accuracy: 86.1835 Validation Loss: 0.0031 Validation Accuracy: 44.4583\n",
            "==================================================\n",
            "Epoch no. 63 Train Loss: 0.0026 Train Accuracy: 86.1674 Validation Loss: 0.0031 Validation Accuracy: 44.4084\n",
            "==================================================\n",
            "Epoch no. 64 Train Loss: 0.0026 Train Accuracy: 86.3332 Validation Loss: 0.0030 Validation Accuracy: 44.5582\n",
            "==================================================\n",
            "Epoch no. 65 Train Loss: 0.0026 Train Accuracy: 86.2744 Validation Loss: 0.0031 Validation Accuracy: 43.9840\n",
            "==================================================\n",
            "Epoch no. 66 Train Loss: 0.0026 Train Accuracy: 86.3386 Validation Loss: 0.0032 Validation Accuracy: 43.9341\n",
            "==================================================\n",
            "Epoch no. 67 Train Loss: 0.0026 Train Accuracy: 86.0872 Validation Loss: 0.0032 Validation Accuracy: 44.0589\n",
            "==================================================\n",
            "Epoch no. 68 Train Loss: 0.0026 Train Accuracy: 86.1032 Validation Loss: 0.0031 Validation Accuracy: 44.0589\n",
            "==================================================\n",
            "Epoch no. 69 Train Loss: 0.0026 Train Accuracy: 86.2423 Validation Loss: 0.0032 Validation Accuracy: 44.1338\n",
            "==================================================\n",
            "Epoch no. 70 Train Loss: 0.0026 Train Accuracy: 86.4188 Validation Loss: 0.0032 Validation Accuracy: 43.7594\n",
            "==================================================\n",
            "Epoch no. 71 Train Loss: 0.0026 Train Accuracy: 86.4884 Validation Loss: 0.0032 Validation Accuracy: 43.8842\n",
            "==================================================\n",
            "Epoch no. 72 Train Loss: 0.0026 Train Accuracy: 86.2691 Validation Loss: 0.0031 Validation Accuracy: 44.3085\n",
            "==================================================\n",
            "Epoch no. 73 Train Loss: 0.0026 Train Accuracy: 86.2637 Validation Loss: 0.0030 Validation Accuracy: 44.5831\n",
            "==================================================\n",
            "Epoch no. 74 Train Loss: 0.0026 Train Accuracy: 86.2584 Validation Loss: 0.0030 Validation Accuracy: 44.4833\n",
            "==================================================\n",
            "Epoch no. 75 Train Loss: 0.0026 Train Accuracy: 86.6649 Validation Loss: 0.0031 Validation Accuracy: 43.9840\n",
            "==================================================\n",
            "Epoch no. 76 Train Loss: 0.0026 Train Accuracy: 86.4242 Validation Loss: 0.0030 Validation Accuracy: 44.6580\n",
            "==================================================\n",
            "Epoch no. 77 Train Loss: 0.0025 Train Accuracy: 86.5953 Validation Loss: 0.0033 Validation Accuracy: 43.8093\n",
            "==================================================\n"
          ]
        },
        {
          "output_type": "error",
          "ename": "KeyboardInterrupt",
          "evalue": "",
          "traceback": [
            "\u001b[0;31m---------------------------------------------------------------------------\u001b[0m",
            "\u001b[0;31mKeyboardInterrupt\u001b[0m                         Traceback (most recent call last)",
            "\u001b[0;32m<ipython-input-25-551f5670e44b>\u001b[0m in \u001b[0;36m<cell line: 0>\u001b[0;34m()\u001b[0m\n\u001b[1;32m     17\u001b[0m     \u001b[0mprediction\u001b[0m \u001b[0;34m=\u001b[0m \u001b[0mbert_for_calssification\u001b[0m\u001b[0;34m(\u001b[0m\u001b[0minputs\u001b[0m\u001b[0;34m[\u001b[0m\u001b[0;34m'input_ids'\u001b[0m\u001b[0;34m]\u001b[0m\u001b[0;34m.\u001b[0m\u001b[0msqueeze\u001b[0m\u001b[0;34m(\u001b[0m\u001b[0;36m1\u001b[0m\u001b[0;34m)\u001b[0m\u001b[0;34m,\u001b[0m\u001b[0minputs\u001b[0m\u001b[0;34m[\u001b[0m\u001b[0;34m'attention_mask'\u001b[0m\u001b[0;34m]\u001b[0m\u001b[0;34m.\u001b[0m\u001b[0msqueeze\u001b[0m\u001b[0;34m(\u001b[0m\u001b[0;36m1\u001b[0m\u001b[0;34m)\u001b[0m\u001b[0;34m)\u001b[0m\u001b[0;34m.\u001b[0m\u001b[0msqueeze\u001b[0m\u001b[0;34m(\u001b[0m\u001b[0;36m1\u001b[0m\u001b[0;34m)\u001b[0m\u001b[0;34m\u001b[0m\u001b[0;34m\u001b[0m\u001b[0m\n\u001b[1;32m     18\u001b[0m     \u001b[0mbatch_loss\u001b[0m \u001b[0;34m=\u001b[0m \u001b[0mcriterion\u001b[0m\u001b[0;34m(\u001b[0m\u001b[0mprediction\u001b[0m\u001b[0;34m,\u001b[0m \u001b[0mlabels\u001b[0m\u001b[0;34m)\u001b[0m\u001b[0;34m\u001b[0m\u001b[0;34m\u001b[0m\u001b[0m\n\u001b[0;32m---> 19\u001b[0;31m     \u001b[0mtotal_loss_train\u001b[0m \u001b[0;34m+=\u001b[0m \u001b[0mbatch_loss\u001b[0m\u001b[0;34m.\u001b[0m\u001b[0mitem\u001b[0m\u001b[0;34m(\u001b[0m\u001b[0;34m)\u001b[0m\u001b[0;34m\u001b[0m\u001b[0;34m\u001b[0m\u001b[0m\n\u001b[0m\u001b[1;32m     20\u001b[0m \u001b[0;34m\u001b[0m\u001b[0m\n\u001b[1;32m     21\u001b[0m     \u001b[0macc\u001b[0m \u001b[0;34m=\u001b[0m \u001b[0;34m(\u001b[0m\u001b[0mprediction\u001b[0m\u001b[0;34m.\u001b[0m\u001b[0mround\u001b[0m\u001b[0;34m(\u001b[0m\u001b[0;34m)\u001b[0m \u001b[0;34m==\u001b[0m \u001b[0mlabels\u001b[0m\u001b[0;34m)\u001b[0m\u001b[0;34m.\u001b[0m\u001b[0msum\u001b[0m\u001b[0;34m(\u001b[0m\u001b[0;34m)\u001b[0m\u001b[0;34m.\u001b[0m\u001b[0mitem\u001b[0m\u001b[0;34m(\u001b[0m\u001b[0;34m)\u001b[0m\u001b[0;34m\u001b[0m\u001b[0;34m\u001b[0m\u001b[0m\n",
            "\u001b[0;31mKeyboardInterrupt\u001b[0m: "
          ]
        }
      ]
    },
    {
      "cell_type": "code",
      "source": [
        "\n",
        "with torch.no_grad():\n",
        "  total_loss_test = 0\n",
        "  total_acc_test = 0\n",
        "  for indx, data in enumerate(test_loader):\n",
        "    input, label = data\n",
        "    input.to(device)\n",
        "    label.to(device)\n",
        "\n",
        "    prediction = bert_for_calssification(input['input_ids'].squeeze(1), input['attention_mask'].squeeze(1)).squeeze(1)\n",
        "\n",
        "    batch_loss_val = criterion(prediction, label)\n",
        "    total_loss_test += batch_loss_val.item()\n",
        "    acc = ((prediction).round() == label).sum().item()\n",
        "    total_acc_test += acc\n",
        "\n",
        "print(f\"Accuracy Score is: {round((total_acc_test/X_test.shape[0])*100, 2)}%\")"
      ],
      "metadata": {
        "colab": {
          "base_uri": "https://localhost:8080/"
        },
        "id": "al3bmGdh0nNv",
        "outputId": "4b145c65-c767-47e0-aa3b-fed54f762bd3"
      },
      "execution_count": null,
      "outputs": [
        {
          "output_type": "stream",
          "name": "stdout",
          "text": [
            "Accuracy Score is: 44.2%\n"
          ]
        }
      ]
    },
    {
      "cell_type": "code",
      "source": [
        "\n",
        "fig, axs = plt.subplots(nrows=1, ncols=2, figsize=(15, 5))\n",
        "\n",
        "axs[0].plot(total_loss_train_plot, label='Training Loss')\n",
        "axs[0].plot(total_loss_val_plot, label='Validation Loss')\n",
        "axs[0].set_title('Training and Validation Loss over Epochs')\n",
        "axs[0].set_xlabel('Epochs')\n",
        "axs[0].set_ylabel('Loss')\n",
        "axs[0].set_ylim([0, 1])\n",
        "axs[0].legend()\n",
        "\n",
        "axs[1].plot(total_acc_train_plot, label='Training Accuracy')\n",
        "axs[1].plot(total_acc_val_plot, label='Validation Accuracy')\n",
        "axs[1].set_title('Training and Validation Accuracy over Epochs')\n",
        "axs[1].set_xlabel('Epochs')\n",
        "axs[1].set_ylabel('Accuracy')\n",
        "axs[1].set_ylim([0, 100])\n",
        "axs[1].legend()\n",
        "\n",
        "plt.tight_layout()\n",
        "\n",
        "plt.show()"
      ],
      "metadata": {
        "colab": {
          "base_uri": "https://localhost:8080/",
          "height": 423
        },
        "id": "qEpvjzgB284E",
        "outputId": "d4a00997-3d07-43b5-9c2e-4aae39ce648f"
      },
      "execution_count": null,
      "outputs": [
        {
          "output_type": "display_data",
          "data": {
            "text/plain": [
              "<Figure size 1500x500 with 2 Axes>"
            ],
            "image/png": "[encoded data removed]"
          },
          "metadata": {}
        }
      ]
    },
    {
      "cell_type": "code",
      "source": [],
      "metadata": {
        "id": "51edSIxo3U3k"
      },
      "execution_count": null,
      "outputs": []
    }
  ]
}